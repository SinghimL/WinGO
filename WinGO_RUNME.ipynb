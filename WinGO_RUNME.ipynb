{
 "cells": [
  {
   "cell_type": "markdown",
   "metadata": {},
   "source": [
    "## WinGO - A Wingsail Parameterisation and Optimisation Model"
   ]
  },
  {
   "cell_type": "markdown",
   "metadata": {},
   "source": [
    "### Wingsail parameters dataset generation and thrust calculation"
   ]
  },
  {
   "cell_type": "markdown",
   "metadata": {},
   "source": [
    "#### Wingsail parameters dataset generation\n",
    "\n",
    "In this block, the code generates a setten amount of wingsail parameters with required constraints. The dataset should have 19 elements which define various wingsails."
   ]
  },
  {
   "cell_type": "code",
   "execution_count": null,
   "metadata": {},
   "outputs": [],
   "source": [
    "import numpy as np\n",
    "from wingo import RawParameters\n",
    "\n",
    "DATASET_DIR = './datasets/'\n",
    "DATASET_SIZE = 4000\n",
    "\n",
    "dataset_generator = RawParameters(dataset_size = DATASET_SIZE,\n",
    "                          save_dir = DATASET_DIR,\n",
    "                          data_trustworthiness = \"positive\",\n",
    "                          save_csv = True)\n",
    "raw_dataset_path = dataset_generator.generate()\n",
    "\n",
    "print(f\"Parameters dataset shape: {np.load(raw_dataset_path).shape}\")"
   ]
  },
  {
   "cell_type": "markdown",
   "metadata": {},
   "source": [
    "#### Wingsail thrust performance calculation\n",
    "\n",
    "In this block, the code calculates the maximum thrust can provide by the wingsails in the dataset under different sailing conditions. In addition, the code reconstructs the dataset with calculation results into training and testing datasets."
   ]
  },
  {
   "cell_type": "code",
   "execution_count": null,
   "metadata": {},
   "outputs": [],
   "source": [
    "from wingo import DatasetBuild\n",
    "\n",
    "PARAMETER_DATASET_PATH = raw_dataset_path\n",
    "DATASET_CALCULATION_CONFIG = {'vessel_speed_range'   : [6, 10, 1],\n",
    "                              'true_wind_speed_range': [6, 10, 1],\n",
    "                              'true_wind_angle_range': [30, 150, 10],\n",
    "                              'physical_constants'   : {'sea_surface_roughness'  : 2e-4,\n",
    "                                                        'air_density'            : 1.205,\n",
    "                                                        'air_kinematic_viscosity': 15.06e-6},\n",
    "                              'aoa_range'            : [1, 25, 1],\n",
    "                              'refinement_level'     : 1,\n",
    "                              'neuralfoil_network'   : \"xlarge\"}\n",
    "\n",
    "dataset_reconstructor = DatasetBuild(parameter_dataset_path = PARAMETER_DATASET_PATH,\n",
    "                                     calculation_config = DATASET_CALCULATION_CONFIG)\n",
    "\n",
    "calculated_dataset_path = dataset_reconstructor.thrust_calculation(save_csv = True)\n",
    "print(f\"Dataset with calculated thrust performance shape: {np.load(calculated_dataset_path).shape}\")"
   ]
  },
  {
   "cell_type": "code",
   "execution_count": null,
   "metadata": {},
   "outputs": [],
   "source": [
    "training_dataset_path, testing_dataset_path = dataset_reconstructor.build_training_and_testing_dataset(train_test_ratio  = 0.8,\n",
    "                                                                                                       testing_filename  = 'ds2train.npy',\n",
    "                                                                                                       training_filename = 'ds2test.npy')\n",
    "\n",
    "print(f\"Training dataset shape: {np.load(training_dataset_path).shape}\")\n",
    "print(f\"Testing dataset shape: {np.load(testing_dataset_path).shape}\")"
   ]
  },
  {
   "cell_type": "markdown",
   "metadata": {},
   "source": [
    "### Thrust prediction regression model training and evaluation"
   ]
  },
  {
   "cell_type": "markdown",
   "metadata": {},
   "source": [
    "##### Model setup\n",
    "\n",
    "In this block, the code imports the essentail libararies and configs the parameters for the regression model training, evaluation and application."
   ]
  },
  {
   "cell_type": "code",
   "execution_count": 2,
   "metadata": {},
   "outputs": [
    {
     "name": "stdout",
     "output_type": "stream",
     "text": [
      "Training dataset shape: (1040000, 23)\n"
     ]
    }
   ],
   "source": [
    "# Import all libraries and modules for training\n",
    "from wingo import DatasetPrepocessing, ThrustPredictor\n",
    "from sklearn.metrics import r2_score\n",
    "import numpy as np\n",
    "import torch\n",
    "\n",
    "# Activate bellow to run the section independently\n",
    "training_dataset_path = './datasets/ds2train.npy'\n",
    "testing_dataset_path  = './datasets/ds2test.npy'\n",
    "\n",
    "# Pre-setup for training and apply the regression model\n",
    "MODEL_DIR = './saved_model/'\n",
    "NETWORK_NODES = 512\n",
    "X_BOUNDS = np.array([[20  ,  100],  # Overall span range\n",
    "                     [2   ,   30],  # Clearance over water range\n",
    "                     [4   ,   25],  # Chord of bottom section range\n",
    "                     [10  ,   25],  # Bottom section NACA profile range\n",
    "                     [0.2 , 0.65],  # Distance to bottom from lower section range\n",
    "                     [0.8 ,  1.1],  # Chord of lower section range\n",
    "                     [8   ,   25],  # Lower section NACA profile range\n",
    "                     [-0.2,  0.2],  # Lengthways offset of lower section range\n",
    "                     [0.35, 0.85],  # Distance to bottom from middle section range\n",
    "                     [0.6 ,  1.2],  # Chord of middle section range\n",
    "                     [6   ,   25],  # Middle section NACA profile range\n",
    "                     [-0.2,  0.4],  # Lengthways offset of middle section range\n",
    "                     [0.8 , 0.95],  # Distance to bottom from upper section range\n",
    "                     [0.3 ,    1],  # Chord of upper section range\n",
    "                     [6   ,   25],  # Upper section NACA profile range\n",
    "                     [0   ,  0.5],  # Lengthways offset of upper section range\n",
    "                     [0.2 ,    1],  # Chord of tip section range\n",
    "                     [6   ,   25],  # Tip section NACA profile range\n",
    "                     [0   ,  0.7],  # Lengthways offset of tip section range\n",
    "                     [6   ,   10],  # Vessel speed range\n",
    "                     [6   ,   10],  # True wind speed range\n",
    "                     [30  ,  150]]) # True wind angle range\n",
    "\n",
    "training_dataset = np.load(training_dataset_path)\n",
    "print(f\"Training dataset shape: {training_dataset.shape}\")\n",
    "nodes = NETWORK_NODES\n",
    "predictor_config  = {'model_label'      : 'Thrust_Regressor_V3',        # Label for the model\n",
    "                     'input_dim'        : len(training_dataset[0]) - 1, # Dimension of the input feature X\n",
    "                     'output_dim'       : 1,                            # Dimension of the target feature Y (the thrust to be predicted)\n",
    "                     'latent_dim'       : nodes,                        # Dimension of the latent layer\n",
    "                     'network_structure': [nodes,nodes,nodes,nodes],    # Structure of the neural network\n",
    "                     'epochs_num'       : 1500,                         # Number of training epochs\n",
    "                     'batch_size'       : 16384,                        # Batch size\n",
    "                     'learning_rate'    : 0.0001,                       # Learning rate\n",
    "                     'weight_decay'     : 0.01,                         # Weight decay\n",
    "                     'vs_range'         : [6, 10, 1],                   # Vessel speed range\n",
    "                     'tws_range'        : [6, 10, 1],                   # True wind speed range\n",
    "                     'twa_range'        : [30, 150, 10]}                # True wind angle range"
   ]
  },
  {
   "cell_type": "markdown",
   "metadata": {},
   "source": [
    "##### Model training\n",
    "\n",
    "In this block, the code instanciates the regression model and executes the training process, and returns a simplified evaluation result with the *validation dataset*."
   ]
  },
  {
   "cell_type": "code",
   "execution_count": null,
   "metadata": {},
   "outputs": [],
   "source": [
    "# Train the regression model for thrust prediction with the training dataset (1040000, 23)\n",
    "torch.backends.cudnn.deterministic = True\n",
    "torch.backends.cudnn.benchmark     = False\n",
    "\n",
    "thrust_reg = ThrustPredictor(predictor_config, training_dataset, X_BOUNDS, training_device = 'cuda:0')\n",
    "\n",
    "model_size = 0\n",
    "for p in thrust_reg.model.parameters():\n",
    "    model_size += p.numel()\n",
    "print(f\"Model size: {model_size}\")\n",
    "\n",
    "thrust_reg.train(16, 8)\n",
    "thrust_reg.save(MODEL_DIR)"
   ]
  },
  {
   "cell_type": "markdown",
   "metadata": {},
   "source": [
    "##### Model testing\n",
    "In this block, the code loads the *testing dataset*, regression model and its configurations, to executes the testing process."
   ]
  },
  {
   "cell_type": "code",
   "execution_count": 3,
   "metadata": {},
   "outputs": [
    {
     "name": "stdout",
     "output_type": "stream",
     "text": [
      "Evaluation dataset shape: (260000, 23)\n",
      "R2 score of the predicted Y: 0.9997756560311318\n"
     ]
    }
   ],
   "source": [
    "# Evaluate the regression model with the evaluation dataset (260000, 23)\n",
    "testing_dataset = np.load(testing_dataset_path)\n",
    "print(f\"Evaluation dataset shape: {testing_dataset.shape}\")\n",
    "\n",
    "x_to_test, y_calc_shaped = DatasetPrepocessing(testing_dataset, X_BOUNDS).minmax_scaler()\n",
    "thrust_reg = ThrustPredictor(predictor_config, training_dataset, X_BOUNDS, training_device = 'cuda:0')\n",
    "thrust_reg.load(MODEL_DIR)\n",
    "x_tensorised = torch.tensor(x_to_test, dtype=torch.float32).to(torch.device('cuda:0'))\n",
    "y_predicted = thrust_reg.model(x_tensorised).to(torch.device('cpu')).detach().numpy()\n",
    "\n",
    "print(f\"R2 score of the predicted Y: {str(r2_score(y_calc_shaped, y_predicted))}\")"
   ]
  },
  {
   "cell_type": "markdown",
   "metadata": {},
   "source": [
    "##### Extra verification with customised data\n",
    "\n",
    "In this block, the wingsail parameters and sailing condisions can be customised. The thurst predicted by the regression model will be compared to the result calculated by the physical calculation method (xfoil method or neuralfoil method)."
   ]
  },
  {
   "cell_type": "code",
   "execution_count": 6,
   "metadata": {},
   "outputs": [
    {
     "data": {
      "text/html": [
       "<pre style=\"white-space:pre;overflow-x:auto;line-height:normal;font-family:Menlo,'DejaVu Sans Mono',consolas,'Courier New',monospace\">🚧 <span style=\"color: #ffff00; text-decoration-color: #ffff00\">Notification:</span> Input physical constants incomplete, reset to default values.\n",
       "</pre>\n"
      ],
      "text/plain": [
       "🚧 \u001b[93mNotification:\u001b[0m Input physical constants incomplete, reset to default values.\n"
      ]
     },
     "metadata": {},
     "output_type": "display_data"
    },
    {
     "name": "stdout",
     "output_type": "stream",
     "text": [
      "Max thrust of 26667.82 N found at angle of attack: 19 deg\n",
      "\n",
      "Thrust calculation takes 0.263601 seconds!\n",
      "\n"
     ]
    }
   ],
   "source": [
    "import time\n",
    "from wingo import PreCalculation\n",
    "\n",
    "# Define the customised wingsail and sail condition here\n",
    "CUSTOMISED_WINGSAIL = [40, 10, 8, 15, 0.3, 1, 15, 0, 0.6, 1, 15, 0, 0.8, 0.9, 12, 0, 0.7, 10, 0]\n",
    "\n",
    "# CUSTOMISED_WINGSAIL = [87.8500000, 29.2900000, 14.8900000, 19.0000000, 0.2100000, 0.8900000, 20.0000000, 0.1100000, 0.6600000, 0.8900000, 9.0000000, 0.2800000, 0.8500000, 0.6600000, 9.0000000, 0.4400000, 0.5400000, 9.0000000, 0.6100000]\n",
    "SAILING_CONDITION = [8, 9, 110]\n",
    "\n",
    "t = time.perf_counter()\n",
    "wincal = PreCalculation(CUSTOMISED_WINGSAIL) # For Calculation class test\n",
    "max_thrust, max_angle_of_attack = wincal.max_thrust_with_neuralfoil(SAILING_CONDITION)\n",
    "# max_thrust, max_angle_of_attack = wincal.max_thrust_with_xfoil(SAILING_CONDITION)\n",
    "\n",
    "print(f\"Max thrust of {np.round(max_thrust, 3)} N found at angle of attack: {max_angle_of_attack} deg\\n\")\n",
    "print(f\"Thrust calculation takes {time.perf_counter() - t:8f} seconds!\\n\")\n"
   ]
  },
  {
   "cell_type": "code",
   "execution_count": 20,
   "metadata": {},
   "outputs": [
    {
     "name": "stdout",
     "output_type": "stream",
     "text": [
      "Predicted raw y: 4.4255690574646\n",
      "Predicted max thrust: 26642.137015423723 N\n",
      "Thrust prediction takes 0.03548250001040287 seconds!\n",
      "Delta: 0.09630770064181457%\n"
     ]
    }
   ],
   "source": [
    "t = time.perf_counter()\n",
    "# Prepare the input features X\n",
    "x_init = np.array(CUSTOMISED_WINGSAIL + SAILING_CONDITION + [999])[:, np.newaxis].T\n",
    "x_input, _ = DatasetPrepocessing(x_init, X_BOUNDS).minmax_scaler()\n",
    "\n",
    "# Predict the max thrust\n",
    "thrust_reg = ThrustPredictor(predictor_config, x_init, X_BOUNDS, training_device = 'cuda:0')\n",
    "thrust_reg.load(MODEL_DIR)\n",
    "x_tensorised = torch.tensor(x_input).float().to(thrust_reg.device)\n",
    "y_pred_log = thrust_reg.model(x_tensorised).to(torch.device('cpu')).detach().numpy()\n",
    "\n",
    "print(f\"Predicted raw y: {y_pred_log[0, 0]}\")\n",
    "print(f\"Predicted max thrust: {10 ** y_pred_log[0, 0]} N\")\n",
    "print(f\"Thrust prediction takes {time.perf_counter() - t} seconds!\")\n",
    "\n",
    "print(f\"Delta: {abs(max_thrust - 10 ** y_pred_log[0, 0])/max_thrust * 100}%\")"
   ]
  }
 ],
 "metadata": {
  "kernelspec": {
   "display_name": "WinGpy",
   "language": "python",
   "name": "python3"
  },
  "language_info": {
   "codemirror_mode": {
    "name": "ipython",
    "version": 3
   },
   "file_extension": ".py",
   "mimetype": "text/x-python",
   "name": "python",
   "nbconvert_exporter": "python",
   "pygments_lexer": "ipython3",
   "version": "3.11.9"
  }
 },
 "nbformat": 4,
 "nbformat_minor": 2
}
